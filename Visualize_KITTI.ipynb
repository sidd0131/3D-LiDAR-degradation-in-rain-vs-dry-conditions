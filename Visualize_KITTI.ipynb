{
 "cells": [
  {
   "cell_type": "markdown",
   "id": "8d9c27cf",
   "metadata": {},
   "source": [
    "## Import Necessary Libraries"
   ]
  },
  {
   "cell_type": "code",
   "execution_count": 1,
   "id": "39282549",
   "metadata": {},
   "outputs": [
    {
     "name": "stdout",
     "output_type": "stream",
     "text": [
      "Jupyter environment detected. Enabling Open3D WebVisualizer.\n",
      "[Open3D INFO] WebRTC GUI backend enabled.\n",
      "[Open3D INFO] WebRTCWindowSystem: HTTP handshake server disabled.\n"
     ]
    }
   ],
   "source": [
    "import open3d as o3d\n",
    "import numpy as np"
   ]
  },
  {
   "cell_type": "markdown",
   "id": "8b5d960e",
   "metadata": {},
   "source": [
    "## Vizualize one data sample"
   ]
  },
  {
   "cell_type": "code",
   "execution_count": 2,
   "id": "9cabb4cc",
   "metadata": {},
   "outputs": [],
   "source": [
    "#path to sample:\n",
    "Kitti_file='/media/i2r/My Passport/KITTI/object/sampledata/velodyne/000000.bin'\n",
    "# Load binary point cloud\n",
    "bin_pcd = np.fromfile(Kitti_file, dtype=np.float32)\n",
    "point_cloud_range = [0, -39.68, -3, 69.12, 39.68, 1]"
   ]
  },
  {
   "cell_type": "code",
   "execution_count": 3,
   "id": "dc8fa5ce",
   "metadata": {},
   "outputs": [],
   "source": [
    "# Reshape and drop intensity values\n",
    "points = bin_pcd.reshape((-1, 4))[:, 0:4]\n",
    "np_pcd=[]\n",
    "for point in points:\n",
    "    if point[1]>-39.68 and point[1]<39.68:\n",
    "        if point[0]>0 and point[0]<69.12:\n",
    "            if point[2]>-3 and point[2]<1:\n",
    "                np_pcd.append(list(point[0:3]))"
   ]
  },
  {
   "cell_type": "code",
   "execution_count": 4,
   "id": "033472bd",
   "metadata": {},
   "outputs": [],
   "source": [
    "np_pcd = np.asarray(np_pcd)\n",
    "pcd = o3d.geometry.PointCloud()\n",
    "pcd.points = o3d.utility.Vector3dVector(np_pcd)\n",
    "o3d.visualization.draw_geometries([pcd])"
   ]
  },
  {
   "cell_type": "code",
   "execution_count": null,
   "id": "274e27f4",
   "metadata": {},
   "outputs": [],
   "source": []
  }
 ],
 "metadata": {
  "kernelspec": {
   "display_name": "Python 3 (ipykernel)",
   "language": "python",
   "name": "python3"
  },
  "language_info": {
   "codemirror_mode": {
    "name": "ipython",
    "version": 3
   },
   "file_extension": ".py",
   "mimetype": "text/x-python",
   "name": "python",
   "nbconvert_exporter": "python",
   "pygments_lexer": "ipython3",
   "version": "3.7.0"
  }
 },
 "nbformat": 4,
 "nbformat_minor": 5
}
